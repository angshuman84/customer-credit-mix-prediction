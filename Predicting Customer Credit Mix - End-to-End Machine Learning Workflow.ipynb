{
 "cells": [
  {
   "cell_type": "markdown",
   "id": "7b8e4951",
   "metadata": {},
   "source": [
    "# Predict the Credit_Mix category for a customer based on their financial data, and provide actionable insights to improve credit health."
   ]
  },
  {
   "cell_type": "code",
   "execution_count": 1,
   "id": "1f73c4e7",
   "metadata": {},
   "outputs": [],
   "source": [
    "import pandas as pd"
   ]
  },
  {
   "cell_type": "code",
   "execution_count": 2,
   "id": "2ab15bc6",
   "metadata": {},
   "outputs": [
    {
     "data": {
      "text/html": [
       "<div>\n",
       "<style scoped>\n",
       "    .dataframe tbody tr th:only-of-type {\n",
       "        vertical-align: middle;\n",
       "    }\n",
       "\n",
       "    .dataframe tbody tr th {\n",
       "        vertical-align: top;\n",
       "    }\n",
       "\n",
       "    .dataframe thead th {\n",
       "        text-align: right;\n",
       "    }\n",
       "</style>\n",
       "<table border=\"1\" class=\"dataframe\">\n",
       "  <thead>\n",
       "    <tr style=\"text-align: right;\">\n",
       "      <th></th>\n",
       "      <th>ID</th>\n",
       "      <th>Customer_ID</th>\n",
       "      <th>Month</th>\n",
       "      <th>Name</th>\n",
       "      <th>Age</th>\n",
       "      <th>SSN</th>\n",
       "      <th>Occupation</th>\n",
       "      <th>Annual_Income</th>\n",
       "      <th>Monthly_Inhand_Salary</th>\n",
       "      <th>Num_Bank_Accounts</th>\n",
       "      <th>...</th>\n",
       "      <th>Num_Credit_Inquiries</th>\n",
       "      <th>Credit_Mix</th>\n",
       "      <th>Outstanding_Debt</th>\n",
       "      <th>Credit_Utilization_Ratio</th>\n",
       "      <th>Credit_History_Age</th>\n",
       "      <th>Payment_of_Min_Amount</th>\n",
       "      <th>Total_EMI_per_month</th>\n",
       "      <th>Amount_invested_monthly</th>\n",
       "      <th>Payment_Behaviour</th>\n",
       "      <th>Monthly_Balance</th>\n",
       "    </tr>\n",
       "  </thead>\n",
       "  <tbody>\n",
       "    <tr>\n",
       "      <th>0</th>\n",
       "      <td>0x160a</td>\n",
       "      <td>CUS_0xd40</td>\n",
       "      <td>September</td>\n",
       "      <td>Aaron Maashoh</td>\n",
       "      <td>23</td>\n",
       "      <td>821-00-0265</td>\n",
       "      <td>Scientist</td>\n",
       "      <td>19114.12</td>\n",
       "      <td>1824.843333</td>\n",
       "      <td>3</td>\n",
       "      <td>...</td>\n",
       "      <td>2022.0</td>\n",
       "      <td>Good</td>\n",
       "      <td>809.98</td>\n",
       "      <td>35.030402</td>\n",
       "      <td>22 Years and 9 Months</td>\n",
       "      <td>No</td>\n",
       "      <td>49.574949</td>\n",
       "      <td>236.64268203272135</td>\n",
       "      <td>Low_spent_Small_value_payments</td>\n",
       "      <td>186.26670208571772</td>\n",
       "    </tr>\n",
       "    <tr>\n",
       "      <th>1</th>\n",
       "      <td>0x160b</td>\n",
       "      <td>CUS_0xd40</td>\n",
       "      <td>October</td>\n",
       "      <td>Aaron Maashoh</td>\n",
       "      <td>24</td>\n",
       "      <td>821-00-0265</td>\n",
       "      <td>Scientist</td>\n",
       "      <td>19114.12</td>\n",
       "      <td>1824.843333</td>\n",
       "      <td>3</td>\n",
       "      <td>...</td>\n",
       "      <td>4.0</td>\n",
       "      <td>Good</td>\n",
       "      <td>809.98</td>\n",
       "      <td>33.053114</td>\n",
       "      <td>22 Years and 10 Months</td>\n",
       "      <td>No</td>\n",
       "      <td>49.574949</td>\n",
       "      <td>21.465380264657146</td>\n",
       "      <td>High_spent_Medium_value_payments</td>\n",
       "      <td>361.44400385378196</td>\n",
       "    </tr>\n",
       "    <tr>\n",
       "      <th>2</th>\n",
       "      <td>0x160c</td>\n",
       "      <td>CUS_0xd40</td>\n",
       "      <td>November</td>\n",
       "      <td>Aaron Maashoh</td>\n",
       "      <td>24</td>\n",
       "      <td>821-00-0265</td>\n",
       "      <td>Scientist</td>\n",
       "      <td>19114.12</td>\n",
       "      <td>1824.843333</td>\n",
       "      <td>3</td>\n",
       "      <td>...</td>\n",
       "      <td>4.0</td>\n",
       "      <td>Good</td>\n",
       "      <td>809.98</td>\n",
       "      <td>33.811894</td>\n",
       "      <td>NaN</td>\n",
       "      <td>No</td>\n",
       "      <td>49.574949</td>\n",
       "      <td>148.23393788500925</td>\n",
       "      <td>Low_spent_Medium_value_payments</td>\n",
       "      <td>264.67544623342997</td>\n",
       "    </tr>\n",
       "    <tr>\n",
       "      <th>3</th>\n",
       "      <td>0x160d</td>\n",
       "      <td>CUS_0xd40</td>\n",
       "      <td>December</td>\n",
       "      <td>Aaron Maashoh</td>\n",
       "      <td>24_</td>\n",
       "      <td>821-00-0265</td>\n",
       "      <td>Scientist</td>\n",
       "      <td>19114.12</td>\n",
       "      <td>NaN</td>\n",
       "      <td>3</td>\n",
       "      <td>...</td>\n",
       "      <td>4.0</td>\n",
       "      <td>Good</td>\n",
       "      <td>809.98</td>\n",
       "      <td>32.430559</td>\n",
       "      <td>23 Years and 0 Months</td>\n",
       "      <td>No</td>\n",
       "      <td>49.574949</td>\n",
       "      <td>39.08251089460281</td>\n",
       "      <td>High_spent_Medium_value_payments</td>\n",
       "      <td>343.82687322383634</td>\n",
       "    </tr>\n",
       "    <tr>\n",
       "      <th>4</th>\n",
       "      <td>0x1616</td>\n",
       "      <td>CUS_0x21b1</td>\n",
       "      <td>September</td>\n",
       "      <td>Rick Rothackerj</td>\n",
       "      <td>28</td>\n",
       "      <td>004-07-5839</td>\n",
       "      <td>_______</td>\n",
       "      <td>34847.84</td>\n",
       "      <td>3037.986667</td>\n",
       "      <td>2</td>\n",
       "      <td>...</td>\n",
       "      <td>5.0</td>\n",
       "      <td>Good</td>\n",
       "      <td>605.03</td>\n",
       "      <td>25.926822</td>\n",
       "      <td>27 Years and 3 Months</td>\n",
       "      <td>No</td>\n",
       "      <td>18.816215</td>\n",
       "      <td>39.684018417945296</td>\n",
       "      <td>High_spent_Large_value_payments</td>\n",
       "      <td>485.2984336755923</td>\n",
       "    </tr>\n",
       "  </tbody>\n",
       "</table>\n",
       "<p>5 rows × 27 columns</p>\n",
       "</div>"
      ],
      "text/plain": [
       "       ID Customer_ID      Month             Name  Age          SSN  \\\n",
       "0  0x160a   CUS_0xd40  September    Aaron Maashoh   23  821-00-0265   \n",
       "1  0x160b   CUS_0xd40    October    Aaron Maashoh   24  821-00-0265   \n",
       "2  0x160c   CUS_0xd40   November    Aaron Maashoh   24  821-00-0265   \n",
       "3  0x160d   CUS_0xd40   December    Aaron Maashoh  24_  821-00-0265   \n",
       "4  0x1616  CUS_0x21b1  September  Rick Rothackerj   28  004-07-5839   \n",
       "\n",
       "  Occupation Annual_Income  Monthly_Inhand_Salary  Num_Bank_Accounts  ...  \\\n",
       "0  Scientist      19114.12            1824.843333                  3  ...   \n",
       "1  Scientist      19114.12            1824.843333                  3  ...   \n",
       "2  Scientist      19114.12            1824.843333                  3  ...   \n",
       "3  Scientist      19114.12                    NaN                  3  ...   \n",
       "4    _______      34847.84            3037.986667                  2  ...   \n",
       "\n",
       "   Num_Credit_Inquiries  Credit_Mix Outstanding_Debt Credit_Utilization_Ratio  \\\n",
       "0                2022.0        Good           809.98                35.030402   \n",
       "1                   4.0        Good           809.98                33.053114   \n",
       "2                   4.0        Good           809.98                33.811894   \n",
       "3                   4.0        Good           809.98                32.430559   \n",
       "4                   5.0        Good           605.03                25.926822   \n",
       "\n",
       "       Credit_History_Age Payment_of_Min_Amount Total_EMI_per_month  \\\n",
       "0   22 Years and 9 Months                    No           49.574949   \n",
       "1  22 Years and 10 Months                    No           49.574949   \n",
       "2                     NaN                    No           49.574949   \n",
       "3   23 Years and 0 Months                    No           49.574949   \n",
       "4   27 Years and 3 Months                    No           18.816215   \n",
       "\n",
       "   Amount_invested_monthly                 Payment_Behaviour  \\\n",
       "0       236.64268203272135    Low_spent_Small_value_payments   \n",
       "1       21.465380264657146  High_spent_Medium_value_payments   \n",
       "2       148.23393788500925   Low_spent_Medium_value_payments   \n",
       "3        39.08251089460281  High_spent_Medium_value_payments   \n",
       "4       39.684018417945296   High_spent_Large_value_payments   \n",
       "\n",
       "      Monthly_Balance  \n",
       "0  186.26670208571772  \n",
       "1  361.44400385378196  \n",
       "2  264.67544623342997  \n",
       "3  343.82687322383634  \n",
       "4   485.2984336755923  \n",
       "\n",
       "[5 rows x 27 columns]"
      ]
     },
     "execution_count": 2,
     "metadata": {},
     "output_type": "execute_result"
    }
   ],
   "source": [
    "url = 'https://raw.githubusercontent.com/rashakil-ds/Public-Datasets/refs/heads/main/Bank%20Data.csv'\n",
    "df = pd.read_csv(url)\n",
    "df.head()"
   ]
  },
  {
   "cell_type": "code",
   "execution_count": 3,
   "id": "0f007a85",
   "metadata": {},
   "outputs": [
    {
     "data": {
      "text/plain": [
       "Index(['ID', 'Customer_ID', 'Month', 'Name', 'Age', 'SSN', 'Occupation',\n",
       "       'Annual_Income', 'Monthly_Inhand_Salary', 'Num_Bank_Accounts',\n",
       "       'Num_Credit_Card', 'Interest_Rate', 'Num_of_Loan', 'Type_of_Loan',\n",
       "       'Delay_from_due_date', 'Num_of_Delayed_Payment', 'Changed_Credit_Limit',\n",
       "       'Num_Credit_Inquiries', 'Credit_Mix', 'Outstanding_Debt',\n",
       "       'Credit_Utilization_Ratio', 'Credit_History_Age',\n",
       "       'Payment_of_Min_Amount', 'Total_EMI_per_month',\n",
       "       'Amount_invested_monthly', 'Payment_Behaviour', 'Monthly_Balance'],\n",
       "      dtype='object')"
      ]
     },
     "execution_count": 3,
     "metadata": {},
     "output_type": "execute_result"
    }
   ],
   "source": [
    "df.columns"
   ]
  },
  {
   "cell_type": "markdown",
   "id": "8b283056",
   "metadata": {},
   "source": [
    "# Project Workflow"
   ]
  },
  {
   "cell_type": "markdown",
   "id": "97c31d47",
   "metadata": {},
   "source": [
    "In order to do this project, must follow this structure...."
   ]
  },
  {
   "cell_type": "markdown",
   "id": "0dbc6096",
   "metadata": {},
   "source": [
    "## 1. Data Preprocessing\n",
    "- Handle missing and invalid values in the dataset.\n",
    "- Encode categorical variables appropriately.\n",
    "- Scale and normalize numeric features for uniformity.\n",
    "- Detect and address outliers to improve model stability."
   ]
  },
  {
   "cell_type": "code",
   "execution_count": null,
   "id": "f52a1827",
   "metadata": {},
   "outputs": [],
   "source": []
  },
  {
   "cell_type": "code",
   "execution_count": null,
   "id": "2e1c6f9d",
   "metadata": {},
   "outputs": [],
   "source": []
  },
  {
   "cell_type": "code",
   "execution_count": null,
   "id": "8bd47224",
   "metadata": {},
   "outputs": [],
   "source": []
  },
  {
   "cell_type": "markdown",
   "id": "ffbd6893",
   "metadata": {},
   "source": [
    "## 2. Exploratory Data Analysis (EDA)\n",
    "- Perform descriptive statistics to understand the data distribution.\n",
    "- Visualize relationships between features and the target variable.\n",
    "- Analyze correlations and identify trends or anomalies in the data."
   ]
  },
  {
   "cell_type": "code",
   "execution_count": null,
   "id": "04f2cd76",
   "metadata": {},
   "outputs": [],
   "source": []
  },
  {
   "cell_type": "code",
   "execution_count": null,
   "id": "2b44d11d",
   "metadata": {},
   "outputs": [],
   "source": []
  },
  {
   "cell_type": "code",
   "execution_count": null,
   "id": "20c7643f",
   "metadata": {},
   "outputs": [],
   "source": []
  },
  {
   "cell_type": "markdown",
   "id": "f7702cdc",
   "metadata": {},
   "source": [
    "## 3. Model Building\n",
    "- Train multiple machine learning models using the preprocessed data.\n",
    "- Evaluate the suitability of various models for the task.\n"
   ]
  },
  {
   "cell_type": "code",
   "execution_count": null,
   "id": "2ac4d07a",
   "metadata": {},
   "outputs": [],
   "source": []
  },
  {
   "cell_type": "code",
   "execution_count": null,
   "id": "082d75a9",
   "metadata": {},
   "outputs": [],
   "source": []
  },
  {
   "cell_type": "code",
   "execution_count": null,
   "id": "f0cb382d",
   "metadata": {},
   "outputs": [],
   "source": []
  },
  {
   "cell_type": "markdown",
   "id": "ca51023a",
   "metadata": {},
   "source": [
    "## 4. Model Evaluation\n",
    "- Compute and plot evaluation metrics for all models, such as accuracy, precision, recall, F1-score, and AUC-ROC.\n",
    "- Compare the performance of models across multiple metrics.\n"
   ]
  },
  {
   "cell_type": "code",
   "execution_count": null,
   "id": "79968805",
   "metadata": {},
   "outputs": [],
   "source": []
  },
  {
   "cell_type": "code",
   "execution_count": null,
   "id": "1c88320f",
   "metadata": {},
   "outputs": [],
   "source": []
  },
  {
   "cell_type": "code",
   "execution_count": null,
   "id": "c6308f8d",
   "metadata": {},
   "outputs": [],
   "source": []
  },
  {
   "cell_type": "markdown",
   "id": "69c73d8a",
   "metadata": {},
   "source": [
    "## 5. Hyperparameter Tuning\n",
    "- Optimize hyperparameters for each model using systematic search methods.\n",
    "- Identify the best configuration for improved performance.\n"
   ]
  },
  {
   "cell_type": "code",
   "execution_count": null,
   "id": "c4ccd209",
   "metadata": {},
   "outputs": [],
   "source": []
  },
  {
   "cell_type": "code",
   "execution_count": null,
   "id": "c1b0fdac",
   "metadata": {},
   "outputs": [],
   "source": []
  },
  {
   "cell_type": "code",
   "execution_count": null,
   "id": "b18eb484",
   "metadata": {},
   "outputs": [],
   "source": []
  },
  {
   "cell_type": "markdown",
   "id": "401600b6",
   "metadata": {},
   "source": [
    "## 6. Retrain Models\n",
    "- Retrain all models using the optimal hyperparameters on the training data.\n",
    "- Validate the models on unseen data to ensure robustness."
   ]
  },
  {
   "cell_type": "code",
   "execution_count": null,
   "id": "86479646",
   "metadata": {},
   "outputs": [],
   "source": []
  },
  {
   "cell_type": "code",
   "execution_count": null,
   "id": "265d66fd",
   "metadata": {},
   "outputs": [],
   "source": []
  },
  {
   "cell_type": "code",
   "execution_count": null,
   "id": "1c656716",
   "metadata": {},
   "outputs": [],
   "source": []
  },
  {
   "cell_type": "markdown",
   "id": "b65c4797",
   "metadata": {},
   "source": [
    "## 7. Final Performance and Cross-Validation\n",
    "- Evaluate the final performance of each model using cross-validation scores.\n",
    "- Compare results to select the best-performing model.\n"
   ]
  },
  {
   "cell_type": "code",
   "execution_count": null,
   "id": "b0dff7d6",
   "metadata": {},
   "outputs": [],
   "source": []
  },
  {
   "cell_type": "code",
   "execution_count": null,
   "id": "e7bbdc4a",
   "metadata": {},
   "outputs": [],
   "source": []
  },
  {
   "cell_type": "code",
   "execution_count": null,
   "id": "3aa4ecea",
   "metadata": {},
   "outputs": [],
   "source": []
  },
  {
   "cell_type": "markdown",
   "id": "8e5a5226",
   "metadata": {},
   "source": [
    "## 8. Suggestions\n",
    "- Provide recommendations based on the model insights and analysis.\n",
    "- Suggest actionable steps to improve outcomes or address any gaps identified during the project.\n"
   ]
  },
  {
   "cell_type": "code",
   "execution_count": null,
   "id": "1b4ff2ee",
   "metadata": {},
   "outputs": [],
   "source": []
  },
  {
   "cell_type": "code",
   "execution_count": null,
   "id": "aabc05c7",
   "metadata": {},
   "outputs": [],
   "source": []
  },
  {
   "cell_type": "code",
   "execution_count": null,
   "id": "b067b86a",
   "metadata": {},
   "outputs": [],
   "source": []
  }
 ],
 "metadata": {
  "kernelspec": {
   "display_name": "Python 3 (ipykernel)",
   "language": "python",
   "name": "python3"
  },
  "language_info": {
   "codemirror_mode": {
    "name": "ipython",
    "version": 3
   },
   "file_extension": ".py",
   "mimetype": "text/x-python",
   "name": "python",
   "nbconvert_exporter": "python",
   "pygments_lexer": "ipython3",
   "version": "3.9.13"
  }
 },
 "nbformat": 4,
 "nbformat_minor": 5
}
